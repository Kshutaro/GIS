{
 "cells": [
  {
   "cell_type": "code",
   "execution_count": 5,
   "metadata": {},
   "outputs": [],
   "source": [
    "\n",
    "import folium\n",
    "\n",
    "laplage = [35.637520487520064, 139.92402761184917]\n",
    "Bountiful=[35.63780888233954, 139.92367559650393]\n",
    "kamakura=[35.63799134090532, 139.9234375258535]\n",
    "tingtang=[35.6418222258404, 139.9265645290484]\n",
    "Payaso=[35.640390645615994, 139.9287275285352]\n",
    "\n",
    "m = folium.Map(location=[35.638548120394844, 139.92639199461996], zoom_start=16)\n",
    "\n",
    "folium.Marker(laplage, popup=\"wine bistro & bottle shop\", tooltip=\"la plage\").add_to(m)\n",
    "folium.Marker(Bountiful,popup=\"Great coffee, modern food & good vibes.Inspired by Sydney, Australia.\",tooltip=\"Bountiful Coffee\").add_to(m)\n",
    "folium.Marker(kamakura, popup=\"WAGYU hamburg & cake\", tooltip=\"鎌倉ハンバーグ LaNai 3/9\").add_to(m)\n",
    "folium.Marker(tingtang, popup=\"chinese restaurant\", tooltip=\"チンタンタン\").add_to(m)\n",
    "folium.Marker(Payaso, popup=\"Creative Mediterranean cuisine and a wide variety of drinks\", tooltip=\"Restaurant ＆ Bar Payaso\").add_to(m)\n",
    "\n",
    "m\n",
    "\n",
    "m.save('urayasu.html')"
   ]
  }
 ],
 "metadata": {
  "kernelspec": {
   "display_name": "Python 3",
   "language": "python",
   "name": "python3"
  },
  "language_info": {
   "codemirror_mode": {
    "name": "ipython",
    "version": 3
   },
   "file_extension": ".py",
   "mimetype": "text/x-python",
   "name": "python",
   "nbconvert_exporter": "python",
   "pygments_lexer": "ipython3",
   "version": "3.11.5"
  },
  "orig_nbformat": 4
 },
 "nbformat": 4,
 "nbformat_minor": 2
}
